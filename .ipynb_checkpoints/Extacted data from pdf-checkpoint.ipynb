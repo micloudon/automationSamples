{
 "cells": [
  {
   "cell_type": "code",
   "execution_count": 2,
   "id": "f4a8ed19",
   "metadata": {
    "scrolled": true
   },
   "outputs": [],
   "source": [
    "import camelot as cm"
   ]
  },
  {
   "cell_type": "code",
   "execution_count": 3,
   "id": "bc93d36f",
   "metadata": {},
   "outputs": [],
   "source": [
    "input_pdf = cm.read_pdf('india_factsheet_economic_n_hdi.pdf', flavor='lattice', pages='1,2')"
   ]
  },
  {
   "cell_type": "code",
   "execution_count": 4,
   "id": "9747880f",
   "metadata": {},
   "outputs": [
    {
     "data": {
      "text/plain": [
       "<TableList n=4>"
      ]
     },
     "execution_count": 4,
     "metadata": {},
     "output_type": "execute_result"
    }
   ],
   "source": [
    "input_pdf"
   ]
  },
  {
   "cell_type": "code",
   "execution_count": 5,
   "id": "d9d8808d",
   "metadata": {},
   "outputs": [
    {
     "name": "stdout",
     "output_type": "stream",
     "text": [
      "<Table shape=(4, 3)>\n",
      "<Table shape=(15, 3)>\n",
      "<Table shape=(14, 4)>\n",
      "<Table shape=(13, 3)>\n"
     ]
    }
   ],
   "source": [
    "for n in input_pdf:\n",
    "    print(n)\n",
    "    "
   ]
  },
  {
   "cell_type": "code",
   "execution_count": 7,
   "id": "2050b881",
   "metadata": {},
   "outputs": [
    {
     "data": {
      "text/html": [
       "<div>\n",
       "<style scoped>\n",
       "    .dataframe tbody tr th:only-of-type {\n",
       "        vertical-align: middle;\n",
       "    }\n",
       "\n",
       "    .dataframe tbody tr th {\n",
       "        vertical-align: top;\n",
       "    }\n",
       "\n",
       "    .dataframe thead th {\n",
       "        text-align: right;\n",
       "    }\n",
       "</style>\n",
       "<table border=\"1\" class=\"dataframe\">\n",
       "  <thead>\n",
       "    <tr style=\"text-align: right;\">\n",
       "      <th></th>\n",
       "      <th>0</th>\n",
       "      <th>1</th>\n",
       "      <th>2</th>\n",
       "      <th>3</th>\n",
       "    </tr>\n",
       "  </thead>\n",
       "  <tbody>\n",
       "    <tr>\n",
       "      <th>0</th>\n",
       "      <td>Human Development Indicators</td>\n",
       "      <td></td>\n",
       "      <td>2000</td>\n",
       "      <td>2011</td>\n",
       "    </tr>\n",
       "    <tr>\n",
       "      <th>1</th>\n",
       "      <td>13</td>\n",
       "      <td>Human Development Index Value (HDI)</td>\n",
       "      <td>0.461</td>\n",
       "      <td>0.547</td>\n",
       "    </tr>\n",
       "    <tr>\n",
       "      <th>2</th>\n",
       "      <td>14</td>\n",
       "      <td>HDI Rank (out of 187)</td>\n",
       "      <td></td>\n",
       "      <td>134</td>\n",
       "    </tr>\n",
       "    <tr>\n",
       "      <th>3</th>\n",
       "      <td>15</td>\n",
       "      <td>Inequality Adjusted Human Development Index Value</td>\n",
       "      <td></td>\n",
       "      <td>0.392</td>\n",
       "    </tr>\n",
       "    <tr>\n",
       "      <th>4</th>\n",
       "      <td>16</td>\n",
       "      <td>Loss in HDI due to Inequalities (%)</td>\n",
       "      <td></td>\n",
       "      <td>28.7</td>\n",
       "    </tr>\n",
       "    <tr>\n",
       "      <th>5</th>\n",
       "      <td></td>\n",
       "      <td></td>\n",
       "      <td>2001</td>\n",
       "      <td>2011</td>\n",
       "    </tr>\n",
       "    <tr>\n",
       "      <th>6</th>\n",
       "      <td>17</td>\n",
       "      <td>Gender Inequality Index (GII)</td>\n",
       "      <td>0.5531</td>\n",
       "      <td>0.617</td>\n",
       "    </tr>\n",
       "    <tr>\n",
       "      <th>7</th>\n",
       "      <td>18</td>\n",
       "      <td>GII Rank (out of 146)</td>\n",
       "      <td></td>\n",
       "      <td>129</td>\n",
       "    </tr>\n",
       "    <tr>\n",
       "      <th>8</th>\n",
       "      <td></td>\n",
       "      <td></td>\n",
       "      <td>1996</td>\n",
       "      <td>2006</td>\n",
       "    </tr>\n",
       "    <tr>\n",
       "      <th>9</th>\n",
       "      <td>19</td>\n",
       "      <td>Gender Empowerment Measure (GEM)</td>\n",
       "      <td>0.416</td>\n",
       "      <td>0.497</td>\n",
       "    </tr>\n",
       "    <tr>\n",
       "      <th>10</th>\n",
       "      <td></td>\n",
       "      <td></td>\n",
       "      <td>2001</td>\n",
       "      <td>2011</td>\n",
       "    </tr>\n",
       "    <tr>\n",
       "      <th>11</th>\n",
       "      <td>20</td>\n",
       "      <td>Literacy Rate (%)</td>\n",
       "      <td>64.8</td>\n",
       "      <td>74.04</td>\n",
       "    </tr>\n",
       "    <tr>\n",
       "      <th>12</th>\n",
       "      <td>21</td>\n",
       "      <td>Male Literacy Rate (%)</td>\n",
       "      <td>75.3</td>\n",
       "      <td>82.14</td>\n",
       "    </tr>\n",
       "    <tr>\n",
       "      <th>13</th>\n",
       "      <td>22</td>\n",
       "      <td>Female Literacy Rate (%)</td>\n",
       "      <td>53.7</td>\n",
       "      <td>65.46</td>\n",
       "    </tr>\n",
       "  </tbody>\n",
       "</table>\n",
       "</div>"
      ],
      "text/plain": [
       "                               0  \\\n",
       "0   Human Development Indicators   \n",
       "1                             13   \n",
       "2                             14   \n",
       "3                             15   \n",
       "4                             16   \n",
       "5                                  \n",
       "6                             17   \n",
       "7                             18   \n",
       "8                                  \n",
       "9                             19   \n",
       "10                                 \n",
       "11                            20   \n",
       "12                            21   \n",
       "13                            22   \n",
       "\n",
       "                                                    1       2      3  \n",
       "0                                                        2000   2011  \n",
       "1                 Human Development Index Value (HDI)   0.461  0.547  \n",
       "2                               HDI Rank (out of 187)            134  \n",
       "3   Inequality Adjusted Human Development Index Value          0.392  \n",
       "4                 Loss in HDI due to Inequalities (%)           28.7  \n",
       "5                                                        2001   2011  \n",
       "6                       Gender Inequality Index (GII)  0.5531  0.617  \n",
       "7                               GII Rank (out of 146)            129  \n",
       "8                                                        1996   2006  \n",
       "9                    Gender Empowerment Measure (GEM)   0.416  0.497  \n",
       "10                                                       2001   2011  \n",
       "11                                  Literacy Rate (%)    64.8  74.04  \n",
       "12                             Male Literacy Rate (%)    75.3  82.14  \n",
       "13                           Female Literacy Rate (%)    53.7  65.46  "
      ]
     },
     "execution_count": 7,
     "metadata": {},
     "output_type": "execute_result"
    }
   ],
   "source": [
    "input_pdf[2].df"
   ]
  },
  {
   "cell_type": "code",
   "execution_count": 8,
   "id": "ebcab1d3",
   "metadata": {},
   "outputs": [],
   "source": [
    "df = input_pdf[2].df.loc[11:14,1:3]"
   ]
  },
  {
   "cell_type": "code",
   "execution_count": 9,
   "id": "06452dc7",
   "metadata": {},
   "outputs": [
    {
     "data": {
      "text/html": [
       "<div>\n",
       "<style scoped>\n",
       "    .dataframe tbody tr th:only-of-type {\n",
       "        vertical-align: middle;\n",
       "    }\n",
       "\n",
       "    .dataframe tbody tr th {\n",
       "        vertical-align: top;\n",
       "    }\n",
       "\n",
       "    .dataframe thead th {\n",
       "        text-align: right;\n",
       "    }\n",
       "</style>\n",
       "<table border=\"1\" class=\"dataframe\">\n",
       "  <thead>\n",
       "    <tr style=\"text-align: right;\">\n",
       "      <th></th>\n",
       "      <th>1</th>\n",
       "      <th>2</th>\n",
       "      <th>3</th>\n",
       "    </tr>\n",
       "  </thead>\n",
       "  <tbody>\n",
       "    <tr>\n",
       "      <th>11</th>\n",
       "      <td>Literacy Rate (%)</td>\n",
       "      <td>64.8</td>\n",
       "      <td>74.04</td>\n",
       "    </tr>\n",
       "    <tr>\n",
       "      <th>12</th>\n",
       "      <td>Male Literacy Rate (%)</td>\n",
       "      <td>75.3</td>\n",
       "      <td>82.14</td>\n",
       "    </tr>\n",
       "    <tr>\n",
       "      <th>13</th>\n",
       "      <td>Female Literacy Rate (%)</td>\n",
       "      <td>53.7</td>\n",
       "      <td>65.46</td>\n",
       "    </tr>\n",
       "  </tbody>\n",
       "</table>\n",
       "</div>"
      ],
      "text/plain": [
       "                           1     2      3\n",
       "11         Literacy Rate (%)  64.8  74.04\n",
       "12    Male Literacy Rate (%)  75.3  82.14\n",
       "13  Female Literacy Rate (%)  53.7  65.46"
      ]
     },
     "execution_count": 9,
     "metadata": {},
     "output_type": "execute_result"
    }
   ],
   "source": [
    "df"
   ]
  },
  {
   "cell_type": "code",
   "execution_count": 10,
   "id": "17f13718",
   "metadata": {},
   "outputs": [],
   "source": [
    "df = df.reset_index(drop = True)"
   ]
  },
  {
   "cell_type": "code",
   "execution_count": 11,
   "id": "00976990",
   "metadata": {},
   "outputs": [
    {
     "data": {
      "text/html": [
       "<div>\n",
       "<style scoped>\n",
       "    .dataframe tbody tr th:only-of-type {\n",
       "        vertical-align: middle;\n",
       "    }\n",
       "\n",
       "    .dataframe tbody tr th {\n",
       "        vertical-align: top;\n",
       "    }\n",
       "\n",
       "    .dataframe thead th {\n",
       "        text-align: right;\n",
       "    }\n",
       "</style>\n",
       "<table border=\"1\" class=\"dataframe\">\n",
       "  <thead>\n",
       "    <tr style=\"text-align: right;\">\n",
       "      <th></th>\n",
       "      <th>1</th>\n",
       "      <th>2</th>\n",
       "      <th>3</th>\n",
       "    </tr>\n",
       "  </thead>\n",
       "  <tbody>\n",
       "    <tr>\n",
       "      <th>0</th>\n",
       "      <td>Literacy Rate (%)</td>\n",
       "      <td>64.8</td>\n",
       "      <td>74.04</td>\n",
       "    </tr>\n",
       "    <tr>\n",
       "      <th>1</th>\n",
       "      <td>Male Literacy Rate (%)</td>\n",
       "      <td>75.3</td>\n",
       "      <td>82.14</td>\n",
       "    </tr>\n",
       "    <tr>\n",
       "      <th>2</th>\n",
       "      <td>Female Literacy Rate (%)</td>\n",
       "      <td>53.7</td>\n",
       "      <td>65.46</td>\n",
       "    </tr>\n",
       "  </tbody>\n",
       "</table>\n",
       "</div>"
      ],
      "text/plain": [
       "                          1     2      3\n",
       "0         Literacy Rate (%)  64.8  74.04\n",
       "1    Male Literacy Rate (%)  75.3  82.14\n",
       "2  Female Literacy Rate (%)  53.7  65.46"
      ]
     },
     "execution_count": 11,
     "metadata": {},
     "output_type": "execute_result"
    }
   ],
   "source": [
    "df"
   ]
  },
  {
   "cell_type": "code",
   "execution_count": 12,
   "id": "fefedca1",
   "metadata": {},
   "outputs": [],
   "source": [
    "df.columns = [\"KPI\", \"2001\", \"2011\"]"
   ]
  },
  {
   "cell_type": "code",
   "execution_count": 13,
   "id": "4e75fd52",
   "metadata": {},
   "outputs": [
    {
     "data": {
      "text/html": [
       "<div>\n",
       "<style scoped>\n",
       "    .dataframe tbody tr th:only-of-type {\n",
       "        vertical-align: middle;\n",
       "    }\n",
       "\n",
       "    .dataframe tbody tr th {\n",
       "        vertical-align: top;\n",
       "    }\n",
       "\n",
       "    .dataframe thead th {\n",
       "        text-align: right;\n",
       "    }\n",
       "</style>\n",
       "<table border=\"1\" class=\"dataframe\">\n",
       "  <thead>\n",
       "    <tr style=\"text-align: right;\">\n",
       "      <th></th>\n",
       "      <th>KPI</th>\n",
       "      <th>2001</th>\n",
       "      <th>2011</th>\n",
       "    </tr>\n",
       "  </thead>\n",
       "  <tbody>\n",
       "    <tr>\n",
       "      <th>0</th>\n",
       "      <td>Literacy Rate (%)</td>\n",
       "      <td>64.8</td>\n",
       "      <td>74.04</td>\n",
       "    </tr>\n",
       "    <tr>\n",
       "      <th>1</th>\n",
       "      <td>Male Literacy Rate (%)</td>\n",
       "      <td>75.3</td>\n",
       "      <td>82.14</td>\n",
       "    </tr>\n",
       "    <tr>\n",
       "      <th>2</th>\n",
       "      <td>Female Literacy Rate (%)</td>\n",
       "      <td>53.7</td>\n",
       "      <td>65.46</td>\n",
       "    </tr>\n",
       "  </tbody>\n",
       "</table>\n",
       "</div>"
      ],
      "text/plain": [
       "                        KPI  2001   2011\n",
       "0         Literacy Rate (%)  64.8  74.04\n",
       "1    Male Literacy Rate (%)  75.3  82.14\n",
       "2  Female Literacy Rate (%)  53.7  65.46"
      ]
     },
     "execution_count": 13,
     "metadata": {},
     "output_type": "execute_result"
    }
   ],
   "source": [
    "df"
   ]
  },
  {
   "cell_type": "code",
   "execution_count": 14,
   "id": "bb3f4cb0",
   "metadata": {},
   "outputs": [],
   "source": [
    "df.to_csv(\"table_from_pdf.csv\")"
   ]
  },
  {
   "cell_type": "code",
   "execution_count": 15,
   "id": "e2856db9",
   "metadata": {},
   "outputs": [
    {
     "name": "stdout",
     "output_type": "stream",
     "text": [
      " 141549.mp4\t\t\t      newsScrapNoCred.py   tedTalkDownload.py\r\n",
      "'Extacted data from pdf.ipynb'\t      requirements.txt\t   uvenv\r\n",
      " india_factsheet_economic_n_hdi.pdf   table_from_pdf.csv   venv\r\n"
     ]
    }
   ],
   "source": [
    "! ls"
   ]
  },
  {
   "cell_type": "code",
   "execution_count": 17,
   "id": "faea0b08",
   "metadata": {},
   "outputs": [],
   "source": [
    "df.to_excel(\"table_from_pdf.xlsx\")"
   ]
  },
  {
   "cell_type": "code",
   "execution_count": 18,
   "id": "f91ed6f2",
   "metadata": {},
   "outputs": [],
   "source": [
    "import pandas as pd"
   ]
  },
  {
   "cell_type": "code",
   "execution_count": 20,
   "id": "de0b972a",
   "metadata": {},
   "outputs": [],
   "source": [
    "df2 = pd.read_csv(\"table_from_pdf.csv\")"
   ]
  },
  {
   "cell_type": "code",
   "execution_count": 21,
   "id": "ec363660",
   "metadata": {},
   "outputs": [
    {
     "data": {
      "text/html": [
       "<div>\n",
       "<style scoped>\n",
       "    .dataframe tbody tr th:only-of-type {\n",
       "        vertical-align: middle;\n",
       "    }\n",
       "\n",
       "    .dataframe tbody tr th {\n",
       "        vertical-align: top;\n",
       "    }\n",
       "\n",
       "    .dataframe thead th {\n",
       "        text-align: right;\n",
       "    }\n",
       "</style>\n",
       "<table border=\"1\" class=\"dataframe\">\n",
       "  <thead>\n",
       "    <tr style=\"text-align: right;\">\n",
       "      <th></th>\n",
       "      <th>Unnamed: 0</th>\n",
       "      <th>KPI</th>\n",
       "      <th>2001</th>\n",
       "      <th>2011</th>\n",
       "    </tr>\n",
       "  </thead>\n",
       "  <tbody>\n",
       "    <tr>\n",
       "      <th>0</th>\n",
       "      <td>0</td>\n",
       "      <td>Literacy Rate (%)</td>\n",
       "      <td>64.8</td>\n",
       "      <td>74.04</td>\n",
       "    </tr>\n",
       "    <tr>\n",
       "      <th>1</th>\n",
       "      <td>1</td>\n",
       "      <td>Male Literacy Rate (%)</td>\n",
       "      <td>75.3</td>\n",
       "      <td>82.14</td>\n",
       "    </tr>\n",
       "    <tr>\n",
       "      <th>2</th>\n",
       "      <td>2</td>\n",
       "      <td>Female Literacy Rate (%)</td>\n",
       "      <td>53.7</td>\n",
       "      <td>65.46</td>\n",
       "    </tr>\n",
       "  </tbody>\n",
       "</table>\n",
       "</div>"
      ],
      "text/plain": [
       "   Unnamed: 0                       KPI  2001   2011\n",
       "0           0         Literacy Rate (%)  64.8  74.04\n",
       "1           1    Male Literacy Rate (%)  75.3  82.14\n",
       "2           2  Female Literacy Rate (%)  53.7  65.46"
      ]
     },
     "execution_count": 21,
     "metadata": {},
     "output_type": "execute_result"
    }
   ],
   "source": [
    "df2"
   ]
  },
  {
   "cell_type": "code",
   "execution_count": 22,
   "id": "658936e3",
   "metadata": {},
   "outputs": [],
   "source": [
    "import seaborn as sns"
   ]
  },
  {
   "cell_type": "code",
   "execution_count": 24,
   "id": "df426b1a",
   "metadata": {},
   "outputs": [],
   "source": [
    "df_melted = df.melt(\"KPI\", var_name='year', value_name=\"percentage\")"
   ]
  },
  {
   "cell_type": "code",
   "execution_count": null,
   "id": "b09a8738",
   "metadata": {},
   "outputs": [],
   "source": []
  }
 ],
 "metadata": {
  "kernelspec": {
   "display_name": "Python 3 (ipykernel)",
   "language": "python",
   "name": "python3"
  },
  "language_info": {
   "codemirror_mode": {
    "name": "ipython",
    "version": 3
   },
   "file_extension": ".py",
   "mimetype": "text/x-python",
   "name": "python",
   "nbconvert_exporter": "python",
   "pygments_lexer": "ipython3",
   "version": "3.9.7"
  }
 },
 "nbformat": 4,
 "nbformat_minor": 5
}
